{
 "cells": [
  {
   "cell_type": "code",
   "execution_count": null,
   "metadata": {
    "collapsed": false,
    "jupyter": {
     "outputs_hidden": false
    },
    "pycharm": {
     "name": "#%%\n"
    }
   },
   "outputs": [],
   "source": [
    "%pwd"
   ]
  },
  {
   "cell_type": "code",
   "execution_count": null,
   "metadata": {
    "collapsed": false,
    "jupyter": {
     "outputs_hidden": false
    },
    "pycharm": {
     "name": "#%%i\n"
    }
   },
   "outputs": [],
   "source": [
    "import numpy as np\n",
    "#import Atom\n",
    "import Molecule\n",
    "#import Ring\n",
    "import OPLS as op\n",
    "import System\n",
    "import Conjugated_Polymer\n",
    "import Cluster_IO\n",
    "#import Write_Inputs\n",
    "#import Write_Submit_Script\n",
    "import math\n",
    "import copy\n",
    "#import scipy\n",
    "import os\n",
    "import sys\n",
    "import matplotlib.pyplot as plt\n",
    "#import matplotlib.cm\n",
    "import matplotlib as mpl\n",
    "from symfit import parameters, variables, sin, cos, Fit\n",
    "#import re\n",
    "#import time\n",
    "#import dill\n",
    "from aromodel_lib import *"
   ]
  },
  {
   "cell_type": "code",
   "execution_count": null,
   "metadata": {
    "collapsed": false,
    "jupyter": {
     "outputs_hidden": false
    },
    "pycharm": {
     "name": "#%%\n"
    }
   },
   "outputs": [],
   "source": [
    "#File_Location = \"~/Torsional_Parameterization\"\n",
    "#os.chdir(\"/Users/andrewkleinschmidt/Test_New_Torsional_Setup\")\n",
    "Input_File = \"./test/P3HT_Input.txt\"\n",
    "XYZ_File = \"./test/P3HT_Input.xyz\"\n",
    "#Input_File_Sidechains = \"P3HT_Input_With_Sidechains.txt\"\n",
    "#XYZ_File_Sidechains = \"P3HT_Input_With_Sidechains.xyz\"\n",
    "Input_File_Sidechains = Input_File\n",
    "XYZ_File_Sidechains = XYZ_File\n",
    "Polymer_Name = \"P3HT\"\n",
    "Rotated_Shape = (7,36)\n",
    "Min_Dih = 0\n",
    "Max_Dih = 350\n",
    "Min_OOP = 0\n",
    "Max_OOP = 60\n",
    "Fine_Rotated_Shape = (7,36)\n",
    "Fine_Min_Dih = 0\n",
    "Fine_Max_Dih = 360\n",
    "Fine_Min_OOP = 0\n",
    "Fine_Max_OOP = 30\n",
    "\n",
    "OOP_Rotations = np.linspace(Min_OOP,Max_OOP,Rotated_Shape[0])\n",
    "Dih_Rotations = np.linspace(Min_Dih,Max_Dih,Rotated_Shape[1])"
   ]
  },
  {
   "cell_type": "code",
   "execution_count": null,
   "metadata": {},
   "outputs": [],
   "source": [
    "%pwd"
   ]
  },
  {
   "cell_type": "code",
   "execution_count": null,
   "metadata": {},
   "outputs": [],
   "source": [
    "def Set_Up_Folders(path):\n",
    "    folders = [\"Bond_Parameters\",\"Figures\",\"Rotation_Run_Input_Copies\",\"XYZ_Files\",\"Hydrogenated_XYZ_Files\",\n",
    "    \"Alternate_Hydrogenated_XYZ_Files\",\"Nontorsional_Outputs\",\"Nontorsional_Inputs\",\"Hydrogenated_Improper_XYZ_Files\",\n",
    "    \"Alternate_Hydrogenated_Improper_XYZ_Files\",\"Multi_Ring_Hydrogenated_Rotation_Test\", ]\n",
    "    for folder in folders:\n",
    "        comb_path = path+\"/\"+folder\n",
    "        if (not os.path.exists(path+\"/\"+folder)):\n",
    "            os.mkdir(comb_path)"
   ]
  },
  {
   "cell_type": "code",
   "execution_count": null,
   "metadata": {
    "collapsed": false,
    "jupyter": {
     "outputs_hidden": false
    },
    "pycharm": {
     "name": "#%%\n"
    }
   },
   "outputs": [],
   "source": [
    "Set_Up_Folders('.')"
   ]
  },
  {
   "cell_type": "code",
   "execution_count": null,
   "metadata": {
    "collapsed": false,
    "jupyter": {
     "outputs_hidden": false
    },
    "pycharm": {
     "name": "#%%\n"
    }
   },
   "outputs": [],
   "source": [
    "#This function reads in the parameter file, assigns the atoms to rings, adds available LJ, coulombic, bonded, angular, dihedral, and improper potentials, \n",
    "#and tells the program whether it needs to parameterize missing bond potentials or partial charges. \n",
    "#Ring_List: NumPy array of Ring objects categorizing all available atoms into separate rings; \n",
    "#Paramaterize_Bond: Boolean that equals \"True\" if bond parameters for interring bonds have not been specified; \n",
    "#Paramaterize_Charges: Boolean that equals \"True\" if partial charges for atoms have not been specified\n",
    "\n",
    "Ring_List,Parameterize_Bond,Parameterize_Charges = Read_Input(Input_File,XYZ_File,Polymer_Name) \n",
    "# cpu/0.15.4  gcc/9.2.0  openmpi/3.1.6"
   ]
  },
  {
   "cell_type": "code",
   "execution_count": null,
   "metadata": {},
   "outputs": [],
   "source": [
    "%pwd\n",
    "print(len(Ring_List))"
   ]
  },
  {
   "cell_type": "code",
   "execution_count": null,
   "metadata": {
    "collapsed": false,
    "jupyter": {
     "outputs_hidden": false
    },
    "pycharm": {
     "name": "#%%\n"
    }
   },
   "outputs": [],
   "source": [
    "if Parameterize_Charges:\n",
    "    Find_Charges(Ring_List,Polymer_Name) #Assign charges to each atom in each ring"
   ]
  },
  {
   "cell_type": "code",
   "execution_count": null,
   "metadata": {
    "collapsed": false,
    "jupyter": {
     "outputs_hidden": false
    },
    "pycharm": {
     "name": "#%%\n"
    }
   },
   "outputs": [],
   "source": [
    "if Parameterize_Bond:\n",
    "    Strech_Bond(Ring_List,Polymer_Name) #Assign spring constants and equilibrium lengths to each interring potential"
   ]
  },
  {
   "cell_type": "code",
   "execution_count": null,
   "metadata": {
    "collapsed": false,
    "jupyter": {
     "outputs_hidden": false
    },
    "pycharm": {
     "name": "#%%\n"
    }
   },
   "outputs": [],
   "source": [
    "Make_Example_Files(Ring_List)"
   ]
  },
  {
   "cell_type": "code",
   "execution_count": null,
   "metadata": {
    "collapsed": false,
    "jupyter": {
     "outputs_hidden": false
    },
    "pycharm": {
     "name": "#%%\n"
    }
   },
   "outputs": [],
   "source": [
    "Offset_Ring_List = []\n",
    "for ring in Ring_List[1:]:\n",
    "    Offset_Ring_List.append(copy.deepcopy(ring))"
   ]
  },
  {
   "cell_type": "code",
   "execution_count": null,
   "metadata": {
    "collapsed": false,
    "jupyter": {
     "outputs_hidden": false
    },
    "pycharm": {
     "name": "#%%\n"
    }
   },
   "outputs": [],
   "source": [
    "Offset_Ring_List.append(copy.deepcopy(Ring_List[0]))\n",
    "for ring1,ring2 in zip(Ring_List,Offset_Ring_List):\n",
    "    Dimer = Conjugated_Polymer.Conjugated_Polymer([ring1,ring2])\n",
    "    XYZ_Filename = Dimer.Write_XYZ()\n",
    "    Hydrogenated_Dimer,_ = Dimer.Create_Hydrogenated_Copy(0,1)\n",
    "    print(Hydrogenated_Dimer.Ring_List[0].Name)\n",
    "    print(Hydrogenated_Dimer.Ring_List[0].Normal_Vector)\n",
    "    print(Hydrogenated_Dimer.Ring_List[1].Normal_Vector)\n",
    "    Hydrogenated_Dimer.Ring_List[1].Show_Normal_Vector()\n",
    "    XYZ_Filename = Hydrogenated_Dimer.Write_XYZ()"
   ]
  },
  {
   "cell_type": "code",
   "execution_count": null,
   "metadata": {
    "collapsed": false,
    "jupyter": {
     "outputs_hidden": false
    },
    "pycharm": {
     "name": "#%%\n"
    }
   },
   "outputs": [],
   "source": [
    "Offset_Ring_List = []\n",
    "Dual_Offset_Ring_List = []\n",
    "Full_Trimer_Nontorsional_Energy_List = []\n",
    "for ring in Ring_List[1:]:\n",
    "    Offset_Ring_List.append(copy.deepcopy(ring))\n",
    "for ring in Ring_List[2:]:\n",
    "    Dual_Offset_Ring_List.append(copy.deepcopy(ring))\n",
    "\n",
    "Offset_Ring_List.append(copy.deepcopy(Ring_List[0]))\n",
    "Dual_Offset_Ring_List.append(copy.deepcopy(Ring_List[0]))\n",
    "Dual_Offset_Ring_List.append(copy.deepcopy(Ring_List[1]))"
   ]
  },
  {
   "cell_type": "code",
   "execution_count": null,
   "metadata": {
    "collapsed": false,
    "jupyter": {
     "outputs_hidden": false
    },
    "pycharm": {
     "name": "#%%\n"
    }
   },
   "outputs": [],
   "source": [
    "for ring1,ring2,ring3 in zip(Ring_List,Offset_Ring_List,Dual_Offset_Ring_List):\n",
    "    Trimer = Conjugated_Polymer.Conjugated_Polymer([ring1,ring2,ring3])\n",
    "    XYZ_Filename = Trimer.Write_XYZ()"
   ]
  },
  {
   "cell_type": "code",
   "execution_count": null,
   "metadata": {
    "collapsed": false,
    "jupyter": {
     "outputs_hidden": false
    },
    "pycharm": {
     "name": "#%%\n"
    }
   },
   "outputs": [],
   "source": [
    "Extended_Ring_List = copy.deepcopy(Ring_List)\n",
    "for i in range(1):\n",
    "    for j in range(1):\n",
    "        Extended_Ring_List.append(copy.deepcopy(Ring_List[j]))\n",
    "Multimer = Conjugated_Polymer.Conjugated_Polymer(Extended_Ring_List)\n",
    "Multimer.Write_XYZ()"
   ]
  },
  {
   "cell_type": "code",
   "execution_count": null,
   "metadata": {
    "collapsed": false,
    "jupyter": {
     "outputs_hidden": false
    },
    "pycharm": {
     "name": "#%%\n"
    }
   },
   "outputs": [],
   "source": [
    "#Forms n-mers of the rings up until a percentage limit of change is reached, then rotates their rings and calculates RI-MP2 energies, LAMMPS energies without bonded interactions, and nonbonded interaction energies; Returns N: the maximum number of rings tested; Torsional_Energies: an N by len(Ring_List) by Rotated_Shape[0] by Rotated_Shape[1]\n",
    "LAMMPS_Energies = np.zeros(Rotated_Shape)\n",
    "Quantum_Energies = np.zeros(Rotated_Shape)\n",
    "Nonbonded_Energies = np.zeros(Rotated_Shape)\n",
    "\n",
    "Offset_Ring_List = []\n",
    "Dual_Offset_Ring_List = []\n",
    "for ring in Ring_List[1:]:\n",
    "    Offset_Ring_List.append(ring)\n",
    "\n",
    "for ring in Ring_List[2:]:\n",
    "    Dual_Offset_Ring_List.append(ring)\n",
    "\n",
    "Offset_Ring_List.append(Ring_List[0])\n",
    "Dual_Offset_Ring_List.append(Ring_List[0])\n",
    "Dual_Offset_Ring_List.append(Ring_List[1])\n",
    "\n",
    "Dih_Rotations_Degrees = np.linspace(0,Max_Dih + Max_Dih/Rotated_Shape[1]-1,Rotated_Shape[1]+1)\n",
    "OOP_Rotations_Degrees = np.linspace(0,Max_OOP + Max_OOP/Rotated_Shape[0]-1,Rotated_Shape[0]+1)"
   ]
  },
  {
   "cell_type": "code",
   "execution_count": null,
   "metadata": {
    "collapsed": false,
    "jupyter": {
     "outputs_hidden": false
    },
    "pycharm": {
     "name": "#%%\n"
    }
   },
   "outputs": [],
   "source": [
    "#Calculate_Statistics(Input_File_Sidechains,XYZ_File_Sidechains,Polymer_Name,15,3)"
   ]
  },
  {
   "cell_type": "code",
   "execution_count": null,
   "metadata": {
    "collapsed": false,
    "jupyter": {
     "outputs_hidden": false
    },
    "pycharm": {
     "name": "#%%\n"
    }
   },
   "outputs": [],
   "source": [
    "Run_SPE_Methyl_Impropers(Ring_List,Rotated_Shape,Max_Dih,Max_OOP,Polymer_Name)"
   ]
  },
  {
   "cell_type": "code",
   "execution_count": null,
   "metadata": {
    "collapsed": false,
    "jupyter": {
     "outputs_hidden": false
    },
    "pycharm": {
     "name": "#%%\n"
    }
   },
   "outputs": [],
   "source": [
    "Run_SPE_Methyl_Impropers(Ring_List,Fine_Rotated_Shape,Fine_Max_Dih,Fine_Max_OOP,Polymer_Name)"
   ]
  },
  {
   "cell_type": "code",
   "execution_count": null,
   "metadata": {
    "collapsed": false,
    "jupyter": {
     "outputs_hidden": false
    },
    "pycharm": {
     "name": "#%%\n"
    }
   },
   "outputs": [],
   "source": [
    "Ring_By_Ring_Dual_Hydrogenated_End_File_Matrices = Run_Paired_Hydrogenation_Energy(Ring_List,Rotated_Shape,Max_Dih,Max_OOP,Polymer_Name)"
   ]
  },
  {
   "cell_type": "code",
   "execution_count": null,
   "metadata": {
    "collapsed": false,
    "jupyter": {
     "outputs_hidden": false
    },
    "pycharm": {
     "name": "#%%\n"
    }
   },
   "outputs": [],
   "source": [
    "Ring_By_Ring_End_File_Matrices,Ring_By_Ring_Nontorsional_Energy,Ring_By_Ring_Improper_File_Matrices = Run_SPE_Dimers(Ring_List,Rotated_Shape,Max_Dih,Max_OOP,Polymer_Name)\n"
   ]
  },
  {
   "cell_type": "code",
   "execution_count": null,
   "metadata": {
    "collapsed": false,
    "jupyter": {
     "outputs_hidden": false
    },
    "pycharm": {
     "name": "#%%\n"
    }
   },
   "outputs": [],
   "source": [
    "Ring_By_Ring_End_File_Matrices_Fine,Ring_By_Ring_Nontorsional_Energy_Fine,Ring_By_Ring_Improper_File_Matrices_Fine = Run_SPE_Dimers(Ring_List,Fine_Rotated_Shape,Fine_Max_Dih,Fine_Max_OOP,Polymer_Name)"
   ]
  },
  {
   "cell_type": "code",
   "execution_count": null,
   "metadata": {
    "collapsed": false,
    "jupyter": {
     "outputs_hidden": false
    },
    "pycharm": {
     "name": "#%%\n"
    }
   },
   "outputs": [],
   "source": [
    "Ring_By_Ring_End_File_Matrices_Hydrogenated,Ring_By_Ring_Hydrogenated_Energy = Run_SPE_Dimers_Hydrogenated(Ring_List,Rotated_Shape,Max_Dih,Max_OOP,Polymer_Name)"
   ]
  },
  {
   "cell_type": "code",
   "execution_count": null,
   "metadata": {
    "collapsed": false,
    "jupyter": {
     "outputs_hidden": false
    },
    "pycharm": {
     "name": "#%%\n"
    }
   },
   "outputs": [],
   "source": [
    "Ring_By_Ring_End_File_Matrices_Hydrogenated_Fine,Ring_By_Ring_Hydrogenated_Energy_Fine = Run_SPE_Dimers_Hydrogenated(Ring_List,Fine_Rotated_Shape,Fine_Max_Dih,Fine_Max_OOP,Polymer_Name)"
   ]
  },
  {
   "cell_type": "code",
   "execution_count": null,
   "metadata": {
    "collapsed": false,
    "jupyter": {
     "outputs_hidden": false
    },
    "pycharm": {
     "name": "#%%\n"
    }
   },
   "outputs": [],
   "source": [
    "Ring_By_Ring_End_File_Matrices_Hydrogenated_Alternate,Ring_By_Ring_Hydrogenated_Energy_Alternate = Run_SPE_Dimers_Hydrogenated(Ring_List,Rotated_Shape,Max_Dih,Max_OOP,Polymer_Name,Alternate=True)"
   ]
  },
  {
   "cell_type": "code",
   "execution_count": null,
   "metadata": {
    "collapsed": false,
    "jupyter": {
     "outputs_hidden": false
    },
    "pycharm": {
     "name": "#%%\n"
    }
   },
   "outputs": [],
   "source": [
    "Ring_By_Ring_End_File_Matrices_Hydrogenated_Alternate_Fine,Ring_By_Ring_Hydrogenated_Energy_Alternate_Fine = Run_SPE_Dimers_Hydrogenated(Ring_List,Fine_Rotated_Shape,Fine_Max_Dih,Fine_Max_OOP,Polymer_Name,Alternate=True)"
   ]
  },
  {
   "cell_type": "code",
   "execution_count": null,
   "metadata": {
    "collapsed": false,
    "jupyter": {
     "outputs_hidden": false
    },
    "pycharm": {
     "name": "#%%\n"
    }
   },
   "outputs": [],
   "source": [
    "Ring_By_Ring_End_File_Matrices_Hydrogenated_Impropers,Ring_By_Ring_Nontorsional_Energy_HI = Run_SPE_Impropers_Hydrogenated(Ring_List,Rotated_Shape,Max_Dih,Max_OOP,Polymer_Name)"
   ]
  },
  {
   "cell_type": "code",
   "execution_count": null,
   "metadata": {
    "collapsed": false,
    "jupyter": {
     "outputs_hidden": false
    },
    "pycharm": {
     "name": "#%%\n"
    }
   },
   "outputs": [],
   "source": [
    "Ring_By_Ring_End_File_Matrices_Hydrogenated_Impropers_Fine,Ring_By_Ring_Nontorsional_Energy_HI_Fine = Run_SPE_Impropers_Hydrogenated(Ring_List,Fine_Rotated_Shape,Fine_Max_Dih,Fine_Max_OOP,Polymer_Name)"
   ]
  },
  {
   "cell_type": "code",
   "execution_count": null,
   "metadata": {
    "collapsed": false,
    "jupyter": {
     "outputs_hidden": false
    },
    "pycharm": {
     "name": "#%%\n"
    }
   },
   "outputs": [],
   "source": [
    "Ring_By_Ring_End_File_Matrices_Hydrogenated_Impropers_Alternate,Ring_By_Ring_Nontorsional_Energy_HI_Alternate = Run_SPE_Impropers_Hydrogenated(Ring_List,Rotated_Shape,Max_Dih,Max_OOP,Polymer_Name,Alternate=True)"
   ]
  },
  {
   "cell_type": "code",
   "execution_count": null,
   "metadata": {
    "collapsed": false,
    "jupyter": {
     "outputs_hidden": false
    },
    "pycharm": {
     "name": "#%%\n"
    }
   },
   "outputs": [],
   "source": [
    "Ring_By_Ring_End_File_Matrices_Hydrogenated_Impropers_Alternate_Fine,Ring_By_Ring_Nontorsional_Energy_HI_Alternate_Fine = Run_SPE_Impropers_Hydrogenated(Ring_List,Fine_Rotated_Shape,Fine_Max_Dih,Fine_Max_OOP,Polymer_Name,Alternate=True)"
   ]
  },
  {
   "cell_type": "code",
   "execution_count": null,
   "metadata": {
    "collapsed": false,
    "jupyter": {
     "outputs_hidden": false
    },
    "pycharm": {
     "name": "#%%\n"
    }
   },
   "outputs": [],
   "source": [
    "#Ring_By_Ring_End_File_Matrices_Trimer,Ring_By_Ring_Trimer_Nontorsional_Energy = Run_SPE_Trimers_Dih(Ring_List,Rotated_Shape,Max_Dih,Max_OOP,Polymer_Name)"
   ]
  },
  {
   "cell_type": "code",
   "execution_count": null,
   "metadata": {
    "collapsed": false,
    "jupyter": {
     "outputs_hidden": false
    },
    "pycharm": {
     "name": "#%%\n"
    }
   },
   "outputs": [],
   "source": [
    "#Ring_By_Ring_End_File_Matrices_Hydrogenated_Trimer,Syn_Anti_Matrices = Run_SPE_Trimers_Hydrogenated_Dih(Ring_List,Rotated_Shape,Max_Dih,Max_OOP,Polymer_Name)"
   ]
  },
  {
   "cell_type": "code",
   "execution_count": null,
   "metadata": {},
   "outputs": [],
   "source": [
    "import imp\n",
    "import aromodel_lib\n",
    "imp.reload(aromodel_lib)\n",
    "imp.reload(Cluster_IO)\n",
    "from aromodel_lib import *"
   ]
  },
  {
   "cell_type": "code",
   "execution_count": null,
   "metadata": {
    "collapsed": false,
    "jupyter": {
     "outputs_hidden": false
    },
    "pycharm": {
     "name": "#%%\n"
    }
   },
   "outputs": [],
   "source": [
    "Ring_By_Ring_Methyl_Impropers,Ring_By_Ring_Methyl_Improper_Lists,Dimer_Names = Return_SPE_Methyl_Impropers(Ring_List,Rotated_Shape,Max_Dih,Max_OOP,Polymer_Name,Ring_By_Ring_Improper_File_Matrices)"
   ]
  },
  {
   "cell_type": "code",
   "execution_count": null,
   "metadata": {
    "collapsed": false,
    "jupyter": {
     "outputs_hidden": false
    },
    "pycharm": {
     "name": "#%%\n"
    }
   },
   "outputs": [],
   "source": [
    "Ring_By_Ring_Methyl_Impropers_Fine,Ring_By_Ring_Methyl_Improper_Lists_Fine,Dimer_Names_Fine = Return_SPE_Methyl_Impropers(Ring_List,Fine_Rotated_Shape,Fine_Max_Dih,Fine_Max_OOP,Polymer_Name,Ring_By_Ring_Improper_File_Matrices_Fine)"
   ]
  },
  {
   "cell_type": "code",
   "execution_count": null,
   "metadata": {
    "collapsed": false,
    "jupyter": {
     "outputs_hidden": false
    },
    "pycharm": {
     "name": "#%%\n"
    }
   },
   "outputs": [],
   "source": [
    "Ring_By_Ring_Hydrogenated_Energies = Return_SPE_Dimers_Hydrogenated(Ring_List,Rotated_Shape,Max_Dih,Max_OOP,Polymer_Name,Ring_By_Ring_End_File_Matrices_Hydrogenated)"
   ]
  },
  {
   "cell_type": "code",
   "execution_count": null,
   "metadata": {
    "collapsed": false,
    "jupyter": {
     "outputs_hidden": false
    },
    "pycharm": {
     "name": "#%%\n"
    }
   },
   "outputs": [],
   "source": [
    "Ring_By_Ring_Hydrogenated_Energies_Fine = Return_SPE_Dimers_Hydrogenated(Ring_List,Fine_Rotated_Shape,Fine_Max_Dih,Fine_Max_OOP,Polymer_Name,Ring_By_Ring_End_File_Matrices_Hydrogenated_Fine)"
   ]
  },
  {
   "cell_type": "code",
   "execution_count": null,
   "metadata": {
    "collapsed": false,
    "jupyter": {
     "outputs_hidden": false
    },
    "pycharm": {
     "name": "#%%\n"
    }
   },
   "outputs": [],
   "source": [
    "Ring_By_Ring_Hydrogenated_Alternate_Energies = Return_SPE_Dimers_Hydrogenated(Ring_List,Rotated_Shape,Max_Dih,Max_OOP,Polymer_Name,Ring_By_Ring_End_File_Matrices_Hydrogenated_Alternate,Alternate=True)"
   ]
  },
  {
   "cell_type": "code",
   "execution_count": null,
   "metadata": {
    "collapsed": false,
    "jupyter": {
     "outputs_hidden": false
    },
    "pycharm": {
     "name": "#%%\n"
    }
   },
   "outputs": [],
   "source": [
    "Ring_By_Ring_Hydrogenated_Alternate_Energies_Fine = Return_SPE_Dimers_Hydrogenated(Ring_List,Fine_Rotated_Shape,Fine_Max_Dih,Fine_Max_OOP,Polymer_Name,Ring_By_Ring_End_File_Matrices_Hydrogenated_Alternate_Fine,Alternate=True)"
   ]
  },
  {
   "cell_type": "code",
   "execution_count": null,
   "metadata": {
    "collapsed": false,
    "jupyter": {
     "outputs_hidden": false
    },
    "pycharm": {
     "name": "#%%\n"
    }
   },
   "outputs": [],
   "source": [
    "Combined_Ring_By_Ring_Hydrogenated_Energies,Combined_Ring_By_Ring_Hydrogenated_Energies_Tracker = Merge_Hydrogenated_Energies(Ring_By_Ring_Hydrogenated_Energies,Ring_By_Ring_Hydrogenated_Alternate_Energies)"
   ]
  },
  {
   "cell_type": "code",
   "execution_count": null,
   "metadata": {
    "collapsed": false,
    "jupyter": {
     "outputs_hidden": false
    },
    "pycharm": {
     "name": "#%%\n"
    }
   },
   "outputs": [],
   "source": [
    "Combined_Ring_By_Ring_Hydrogenated_Energies_Fine,Combined_Ring_By_Ring_Hydrogenated_Energies_Tracker_Fine = Merge_Hydrogenated_Energies(Ring_By_Ring_Hydrogenated_Energies_Fine,Ring_By_Ring_Hydrogenated_Alternate_Energies_Fine)"
   ]
  },
  {
   "cell_type": "code",
   "execution_count": null,
   "metadata": {
    "collapsed": false,
    "jupyter": {
     "outputs_hidden": false
    },
    "pycharm": {
     "name": "#%%\n"
    }
   },
   "outputs": [],
   "source": [
    "Ring_By_Ring_Hydrogenated_Improper_Energies = Return_SPE_Dimers_Impropers_Hydrogenated(Ring_List,Rotated_Shape,Max_Dih,Max_OOP,Polymer_Name,Ring_By_Ring_End_File_Matrices_Hydrogenated_Impropers)"
   ]
  },
  {
   "cell_type": "code",
   "execution_count": null,
   "metadata": {
    "collapsed": false,
    "jupyter": {
     "outputs_hidden": false
    },
    "pycharm": {
     "name": "#%%\n"
    }
   },
   "outputs": [],
   "source": [
    "Ring_By_Ring_Hydrogenated_Improper_Energies_Fine = Return_SPE_Dimers_Impropers_Hydrogenated(Ring_List,Fine_Rotated_Shape,Fine_Max_Dih,Fine_Max_OOP,Polymer_Name,Ring_By_Ring_End_File_Matrices_Hydrogenated_Impropers_Fine)"
   ]
  },
  {
   "cell_type": "code",
   "execution_count": null,
   "metadata": {
    "collapsed": false,
    "jupyter": {
     "outputs_hidden": false
    },
    "pycharm": {
     "name": "#%%\n"
    }
   },
   "outputs": [],
   "source": [
    "Ring_By_Ring_Hydrogenated_Alternate_Improper_Energies = Return_SPE_Dimers_Impropers_Hydrogenated(Ring_List,Rotated_Shape,Max_Dih,Max_OOP,Polymer_Name,Ring_By_Ring_End_File_Matrices_Hydrogenated_Impropers_Alternate,Alternate=True)"
   ]
  },
  {
   "cell_type": "code",
   "execution_count": null,
   "metadata": {
    "collapsed": false,
    "jupyter": {
     "outputs_hidden": false
    },
    "pycharm": {
     "name": "#%%\n"
    }
   },
   "outputs": [],
   "source": [
    "Ring_By_Ring_Hydrogenated_Alternate_Improper_Energies_Fine = Return_SPE_Dimers_Impropers_Hydrogenated(Ring_List,Fine_Rotated_Shape,Fine_Max_Dih,Fine_Max_OOP,Polymer_Name,Ring_By_Ring_End_File_Matrices_Hydrogenated_Impropers_Alternate_Fine,Alternate=True)"
   ]
  },
  {
   "cell_type": "code",
   "execution_count": null,
   "metadata": {
    "collapsed": false,
    "jupyter": {
     "outputs_hidden": false
    },
    "pycharm": {
     "name": "#%%\n"
    }
   },
   "outputs": [],
   "source": [
    "Combined_Ring_By_Ring_Hydrogenated_Improper_Energies,Combined_Ring_By_Ring_Hydrogenated_Improper_Energies_Tracker = Merge_Hydrogenated_Improper_Energies(Ring_By_Ring_Hydrogenated_Improper_Energies,Ring_By_Ring_Hydrogenated_Alternate_Improper_Energies,Combined_Ring_By_Ring_Hydrogenated_Energies_Tracker)"
   ]
  },
  {
   "cell_type": "code",
   "execution_count": null,
   "metadata": {
    "collapsed": false,
    "jupyter": {
     "outputs_hidden": false
    },
    "pycharm": {
     "name": "#%%\n"
    }
   },
   "outputs": [],
   "source": [
    "Combined_Ring_By_Ring_Hydrogenated_Improper_Energies_Fine,Combined_Ring_By_Ring_Hydrogenated_Improper_Energies_Tracker_Fine = Merge_Hydrogenated_Improper_Energies(Ring_By_Ring_Hydrogenated_Improper_Energies_Fine,Ring_By_Ring_Hydrogenated_Alternate_Improper_Energies_Fine,Combined_Ring_By_Ring_Hydrogenated_Energies_Tracker_Fine)"
   ]
  },
  {
   "cell_type": "code",
   "execution_count": null,
   "metadata": {
    "collapsed": false,
    "jupyter": {
     "outputs_hidden": false
    },
    "pycharm": {
     "name": "#%%\n"
    }
   },
   "outputs": [],
   "source": [
    "Dimer_Energies,Dimer_Energies_Dict,Dimer_Energies_Corrected = Return_SPE_Dimers(Ring_List,Rotated_Shape,Max_Dih,Max_OOP,Polymer_Name,Ring_By_Ring_End_File_Matrices,Ring_By_Ring_Nontorsional_Energy,Ring_By_Ring_Hydrogenated_Energies)"
   ]
  },
  {
   "cell_type": "code",
   "execution_count": null,
   "metadata": {
    "collapsed": false,
    "jupyter": {
     "outputs_hidden": false
    },
    "pycharm": {
     "name": "#%%\n"
    }
   },
   "outputs": [],
   "source": [
    "Dimer_Energies_Fine,Dimer_Energies_Dict_Fine,Dimer_Energies_Corrected_Fine = Return_SPE_Dimers(Ring_List,Fine_Rotated_Shape,Fine_Max_Dih,Fine_Max_OOP,Polymer_Name,Ring_By_Ring_End_File_Matrices_Fine,Ring_By_Ring_Nontorsional_Energy_Fine,Ring_By_Ring_Hydrogenated_Energies_Fine)"
   ]
  },
  {
   "cell_type": "code",
   "execution_count": null,
   "metadata": {
    "collapsed": false,
    "jupyter": {
     "outputs_hidden": false
    },
    "pycharm": {
     "name": "#%%\n"
    }
   },
   "outputs": [],
   "source": [
    "OPLS_Fit_list = Control_Fit_OPLS(Dimer_Energies,Rotated_Shape)"
   ]
  },
  {
   "cell_type": "code",
   "execution_count": null,
   "metadata": {
    "collapsed": false,
    "jupyter": {
     "outputs_hidden": false
    },
    "pycharm": {
     "name": "#%%\n"
    }
   },
   "outputs": [],
   "source": [
    "#Merged_OOP_Rotations_Degrees,Merged_Raw_Dimer_Energies = Merge_Coarse_Fine(Rotated_Shape,Max_OOP,Max_Dih,Fine_Rotated_Shape,Fine_Max_OOP,Fine_Max_Dih,Dimer_Energies,Dimer_Energies_Fine)"
   ]
  },
  {
   "cell_type": "code",
   "execution_count": null,
   "metadata": {
    "collapsed": false,
    "jupyter": {
     "outputs_hidden": false
    },
    "pycharm": {
     "name": "#%%\n"
    }
   },
   "outputs": [],
   "source": [
    "#Check this-- Merged Raw Dimer Energies is based on corrected #. Doesn't appear to matter but still\n",
    "Merged_OOP_Rotations_Degrees,Merged_Raw_Dimer_Energies = Merge_Coarse_Fine(Rotated_Shape,Max_OOP,Max_Dih,Fine_Rotated_Shape,Fine_Max_OOP,Fine_Max_Dih,Dimer_Energies_Corrected,Dimer_Energies_Corrected_Fine)"
   ]
  },
  {
   "cell_type": "code",
   "execution_count": null,
   "metadata": {
    "collapsed": false,
    "jupyter": {
     "outputs_hidden": false
    },
    "pycharm": {
     "name": "#%%\n"
    }
   },
   "outputs": [],
   "source": [
    "Dimer_Weights = Weight_Impropers(Merged_Raw_Dimer_Energies,5000)"
   ]
  },
  {
   "cell_type": "code",
   "execution_count": null,
   "metadata": {
    "collapsed": false,
    "jupyter": {
     "outputs_hidden": false
    },
    "pycharm": {
     "name": "#%%\n"
    }
   },
   "outputs": [],
   "source": [
    "#Dually_Hydrogenated_Energies = Return_Dually_Hydrogenated(Ring_List,Rotated_Shape,Max_Dih,Max_OOP,Polymer_Name,Ring_By_Ring_Dual_Hydrogenated_End_File_Matrices,Syn_Anti_Matrices)"
   ]
  },
  {
   "cell_type": "code",
   "execution_count": null,
   "metadata": {
    "collapsed": false,
    "jupyter": {
     "outputs_hidden": false
    },
    "pycharm": {
     "name": "#%%\n"
    }
   },
   "outputs": [],
   "source": [
    "Ring_By_Ring_Nonbonded_Energies = np.asarray(Combined_Ring_By_Ring_Hydrogenated_Energies) - np.asarray(Combined_Ring_By_Ring_Hydrogenated_Improper_Energies)"
   ]
  },
  {
   "cell_type": "code",
   "execution_count": null,
   "metadata": {
    "collapsed": false,
    "jupyter": {
     "outputs_hidden": false
    },
    "pycharm": {
     "name": "#%%\n"
    }
   },
   "outputs": [],
   "source": [
    "Nonbonded_Energies = np.array(Ring_By_Ring_Hydrogenated_Energies) - np.array(Ring_By_Ring_Hydrogenated_Improper_Energies)\n",
    "Nonbonded_Energies_Alternate = np.array(Ring_By_Ring_Hydrogenated_Alternate_Energies) - np.array(Ring_By_Ring_Hydrogenated_Alternate_Improper_Energies)"
   ]
  },
  {
   "cell_type": "code",
   "execution_count": null,
   "metadata": {
    "collapsed": false,
    "jupyter": {
     "outputs_hidden": false
    },
    "pycharm": {
     "name": "#%%\n"
    }
   },
   "outputs": [],
   "source": [
    "Ring_By_Ring_Nonbonded_Energies,_ = Merge_Hydrogenated_Energies(Nonbonded_Energies,Nonbonded_Energies_Alternate)"
   ]
  },
  {
   "cell_type": "code",
   "execution_count": null,
   "metadata": {
    "collapsed": false,
    "jupyter": {
     "outputs_hidden": false
    },
    "pycharm": {
     "name": "#%%\n"
    }
   },
   "outputs": [],
   "source": [
    "for names,energies in zip(Dimer_Names,Ring_By_Ring_Nonbonded_Energies):\n",
    "    energies = energies - np.amin(energies[0])\n",
    "    fig,ax = plt.subplots(1,1)\n",
    "    x,y = np.meshgrid(Dih_Rotations_Degrees,OOP_Rotations_Degrees)\n",
    "    c = ax.pcolor(x,y,energies,cmap = 'seismic',vmin=0,vmax=10)\n",
    "    ax.set_title('Nonbonded Energies',fontdict = {'fontsize':24})\n",
    "    plt.xlabel('Dihedral Angle ($^\\circ$)',size = 24)\n",
    "    plt.ylabel('OOP Angle ($^\\circ$)',size = 24)\n",
    "    ax.tick_params(axis=\"x\", labelsize=18)\n",
    "    ax.tick_params(axis=\"y\", labelsize=18)\n",
    "    ax.tick_params(length=4,width=4)\n",
    "    fig.savefig('%s_%s_Nonbonded_Energies' % (names[0],names[1]))\n",
    "    plt.close(fig)\n",
    "\n",
    "for ring in Ring_By_Ring_Nonbonded_Energies:\n",
    "    ring = ring - np.amin(ring[0])"
   ]
  },
  {
   "cell_type": "code",
   "execution_count": null,
   "metadata": {
    "collapsed": false,
    "jupyter": {
     "outputs_hidden": false
    },
    "pycharm": {
     "name": "#%%\n"
    }
   },
   "outputs": [],
   "source": [
    "E_conjugation = np.asarray(Ring_By_Ring_Methyl_Impropers)\n",
    "Dimer_Energies = np.asarray(Dimer_Energies)\n",
    "\n",
    "E_delocalization = Dimer_Energies - E_conjugation - Ring_By_Ring_Nonbonded_Energies\n",
    "#E_delocalization = Dimer_Energies - Ring_By_Ring_Nonbonded_Energies"
   ]
  },
  {
   "cell_type": "code",
   "execution_count": null,
   "metadata": {
    "collapsed": false,
    "jupyter": {
     "outputs_hidden": false
    },
    "pycharm": {
     "name": "#%%\n"
    }
   },
   "outputs": [],
   "source": [
    "Dih_Rotations_Degrees = np.linspace(0,Max_Dih + Max_Dih/Rotated_Shape[1]-1,Rotated_Shape[1]+1)\n",
    "OOP_Rotations_Degrees = np.linspace(0,Max_OOP + Max_OOP/Rotated_Shape[0]-1,Rotated_Shape[0]+1)\n",
    "print(E_delocalization.shape)\n",
    "print(len(Dih_Rotations_Degrees))\n",
    "print(len(OOP_Rotations_Degrees))\n",
    "Make_Surface_Plot(Dih_Rotations_Degrees,OOP_Rotations_Degrees,E_delocalization[0],'%s_Unfit_Conjugated_Energies' % (Polymer_Name),Title='RI-MP2 Energies',xlabel='Dihedral (degrees)',ylabel='Out of Plane (degrees)')"
   ]
  },
  {
   "cell_type": "code",
   "execution_count": null,
   "metadata": {
    "collapsed": false,
    "jupyter": {
     "outputs_hidden": false
    },
    "pycharm": {
     "name": "#%%\n"
    }
   },
   "outputs": [],
   "source": [
    "Ring_By_Ring_Nonbonded_Energies_Fine = np.asarray(Combined_Ring_By_Ring_Hydrogenated_Energies_Fine) - np.asarray(Combined_Ring_By_Ring_Hydrogenated_Improper_Energies_Fine)\n",
    "\n",
    "Nonbonded_Energies_Fine = np.array(Ring_By_Ring_Hydrogenated_Energies_Fine) - np.array(Ring_By_Ring_Hydrogenated_Improper_Energies_Fine)\n",
    "Nonbonded_Energies_Alternate_Fine = np.array(Ring_By_Ring_Hydrogenated_Alternate_Energies_Fine) - np.array(Ring_By_Ring_Hydrogenated_Alternate_Improper_Energies_Fine)\n",
    "Ring_By_Ring_Nonbonded_Energies_Fine,_ = Merge_Hydrogenated_Energies(Nonbonded_Energies_Fine,Nonbonded_Energies_Alternate_Fine)\n",
    "\n",
    "for ring in Ring_By_Ring_Nonbonded_Energies:\n",
    "    ring = ring - np.amin(ring[0])\n",
    "\n",
    "E_conjugation_Fine = np.asarray(Ring_By_Ring_Methyl_Impropers_Fine)\n",
    "Dimer_Energies_Fine = np.asarray(Dimer_Energies_Fine)\n",
    "E_delocalization_Fine = Dimer_Energies_Fine - E_conjugation_Fine - Ring_By_Ring_Nonbonded_Energies_Fine\n",
    "#E_delocalization_Fine = Dimer_Energies_Fine - Ring_By_Ring_Nonbonded_Energies_Fine"
   ]
  },
  {
   "cell_type": "code",
   "execution_count": null,
   "metadata": {
    "collapsed": false,
    "jupyter": {
     "outputs_hidden": false
    },
    "pycharm": {
     "name": "#%%\n"
    }
   },
   "outputs": [],
   "source": [
    "Merged_OOP_Rotations_Degrees,Merged_Delocalization_Energies = Merge_Coarse_Fine(Rotated_Shape,Max_OOP,Max_Dih,Fine_Rotated_Shape,Fine_Max_OOP,Fine_Max_Dih,E_delocalization,E_delocalization_Fine)"
   ]
  },
  {
   "cell_type": "code",
   "execution_count": null,
   "metadata": {
    "collapsed": false,
    "jupyter": {
     "outputs_hidden": false
    },
    "pycharm": {
     "name": "#%%\n"
    }
   },
   "outputs": [],
   "source": [
    "Merged_OOP_Rotations_Degrees,Merged_Conjugation_Energies = Merge_Coarse_Fine(Rotated_Shape,Max_OOP,Max_Dih,Fine_Rotated_Shape,Fine_Max_OOP,Fine_Max_Dih,E_conjugation,E_conjugation_Fine)"
   ]
  },
  {
   "cell_type": "code",
   "execution_count": null,
   "metadata": {
    "collapsed": false,
    "jupyter": {
     "outputs_hidden": false
    },
    "pycharm": {
     "name": "#%%\n"
    }
   },
   "outputs": [],
   "source": [
    "Merged_OOP_Rotations_Degrees,Merged_Nonbonded_Energies = Merge_Coarse_Fine(Rotated_Shape,Max_OOP,Max_Dih,Fine_Rotated_Shape,Fine_Max_OOP,Fine_Max_Dih,Ring_By_Ring_Nonbonded_Energies,Ring_By_Ring_Nonbonded_Energies_Fine)"
   ]
  },
  {
   "cell_type": "code",
   "execution_count": null,
   "metadata": {
    "collapsed": false,
    "jupyter": {
     "outputs_hidden": false
    },
    "pycharm": {
     "name": "#%%\n"
    }
   },
   "outputs": [],
   "source": [
    "import imp\n",
    "import aromodel_lib\n",
    "imp.reload(aromodel_lib)\n",
    "from aromodel_lib import *\n",
    "Force_x,Force_y,Fit_Energies,Deloc_Coarse_Energies,a_params_list,b_params_list,a0_params_list = Fit_Improper_Energies(Merged_Delocalization_Energies,Ring_List,Rotated_Shape,Merged_OOP_Rotations_Degrees,Dimer_Weights)"
   ]
  },
  {
   "cell_type": "code",
   "execution_count": null,
   "metadata": {
    "collapsed": false,
    "jupyter": {
     "outputs_hidden": false
    },
    "pycharm": {
     "name": "#%%\n"
    }
   },
   "outputs": [],
   "source": [
    "Nonbonded_Force_x,Nonbonded_Force_y,Nonbonded_Fit_Energies,Nonbonded_Coarse_Energies,Nonbonded_a_params_list,Nonbonded_b_params_list,Nonbonded_a0_params_list = Fit_Improper_Energies(Merged_Nonbonded_Energies,Ring_List,Rotated_Shape,Merged_OOP_Rotations_Degrees,Dimer_Weights,Nonbonded=True)"
   ]
  },
  {
   "cell_type": "code",
   "execution_count": null,
   "metadata": {
    "collapsed": false,
    "jupyter": {
     "outputs_hidden": false
    },
    "pycharm": {
     "name": "#%%\n"
    }
   },
   "outputs": [],
   "source": [
    "Conjugated_Parameters = Fit_Conjugated_Energies(Merged_Conjugation_Energies,Merged_OOP_Rotations_Degrees)"
   ]
  },
  {
   "cell_type": "code",
   "execution_count": null,
   "metadata": {
    "collapsed": false,
    "jupyter": {
     "outputs_hidden": false
    },
    "pycharm": {
     "name": "#%%\n"
    }
   },
   "outputs": [],
   "source": [
    "#Write_Example_Plumed_Script(Polymer_Name,\"N2200_Input.txt\",\"N2200_Input.xyz\",Fit_Energies,Force_y,Force_x,1,Folder_Name = \"Dimer_Plumed_PNDI_T\") #Plumed Script for dimer w/o sidechains"
   ]
  },
  {
   "cell_type": "code",
   "execution_count": null,
   "metadata": {
    "collapsed": false,
    "jupyter": {
     "outputs_hidden": false
    },
    "pycharm": {
     "name": "#%%\n"
    }
   },
   "outputs": [],
   "source": [
    "#dill.dump_session('N2200_env.db')\n",
    "import imp\n",
    "import aromodel_lib\n",
    "import Molecule\n",
    "imp.reload(System)\n",
    "imp.reload(aromodel_lib)\n",
    "imp.reload(Molecule)\n",
    "from aromodel_lib import *\n",
    "print(Ring_List,Ring_List[1].Dihedral_List)\n",
    "Write_All_Dimers_Plumed(Ring_List,Fit_Energies,Force_y,Force_x,Polymer_Name)"
   ]
  },
  {
   "cell_type": "code",
   "execution_count": null,
   "metadata": {
    "collapsed": false,
    "jupyter": {
     "outputs_hidden": false
    },
    "pycharm": {
     "name": "#%%\n"
    }
   },
   "outputs": [],
   "source": [
    "print(Polymer_Name)#TODO: Figure out why I need to manually add _Input to the end\n",
    "Calculate_Conventional_Energies(Ring_List,Rotated_Shape,Max_Dih,Max_OOP,Polymer_Name + \"_Input\",OPLS_Fit_list)"
   ]
  },
  {
   "cell_type": "code",
   "execution_count": null,
   "metadata": {
    "collapsed": false,
    "jupyter": {
     "outputs_hidden": false
    },
    "pycharm": {
     "name": "#%%\n"
    }
   },
   "outputs": [],
   "source": [
    "#os.chdir(\"/Users/andrewkleinschmidt/Test_New_Torsional_Setup\")\n",
    "#dill.load_session(\"N2200_env.db\")\n",
    "#TODO: there is way too much hard code in this function, like wtf\n",
    "Check_New_Torsional_Energy(Ring_List,Polymer_Name+\"_Input\",Rotated_Shape,a_params_list,b_params_list,a0_params_list,OPLS_Fit_list,Conjugated_Parameters,Nonbonded_a_params_list,Nonbonded_b_params_list,Nonbonded_a0_params_list)"
   ]
  },
  {
   "cell_type": "code",
   "execution_count": null,
   "metadata": {
    "collapsed": false,
    "jupyter": {
     "outputs_hidden": false
    },
    "pycharm": {
     "name": "#%%\n"
    }
   },
   "outputs": [],
   "source": [
    "Compare_Rigidity_Types(Merged_Conjugation_Energies,Merged_Delocalization_Energies,Merged_Nonbonded_Energies,Merged_OOP_Rotations_Degrees)"
   ]
  },
  {
   "cell_type": "code",
   "execution_count": null,
   "metadata": {
    "collapsed": false,
    "jupyter": {
     "outputs_hidden": false
    },
    "pycharm": {
     "name": "#%%\n"
    }
   },
   "outputs": [],
   "source": [
    "imp.reload(aromodel_lib)\n",
    "from aromodel_lib import *\n",
    "Write_Conventional_Data_File(Polymer_Name,Input_File_Sidechains,XYZ_File_Sidechains,15,OPLS_Fit_list,Folder_Name=\"Conventional_Scripts\")"
   ]
  },
  {
   "cell_type": "code",
   "execution_count": null,
   "metadata": {
    "collapsed": false,
    "jupyter": {
     "outputs_hidden": false
    },
    "pycharm": {
     "name": "#%%\n"
    }
   },
   "outputs": [],
   "source": [
    "imp.reload(aromodel_lib)\n",
    "from aromodel_lib import *\n",
    "Write_Conventional_Data_File(Polymer_Name + \"_Noninteracting\",Input_File_Sidechains,XYZ_File_Sidechains,15,OPLS_Fit_list,Folder_Name=\"Conventional_Scripts\",Non_Interacting=True)"
   ]
  },
  {
   "cell_type": "code",
   "execution_count": null,
   "metadata": {
    "collapsed": false,
    "jupyter": {
     "outputs_hidden": false
    },
    "pycharm": {
     "name": "#%%\n"
    }
   },
   "outputs": [],
   "source": [
    "Conjugated_Ring_List = []\n",
    "for i in range(0,len(Ring_List),2):\n",
    "    Conjugated_Ring_List.append(Ring_List[i+1])\n",
    "    Conjugated_Ring_List.append(Ring_List[i])\n",
    "\n",
    "for ring,params in zip(Conjugated_Ring_List,Conjugated_Parameters):\n",
    "    for b_atom in ring.Bonded_Atoms:\n",
    "        b_atom.Add_Improper_Params(params[0],params[1],params[2])"
   ]
  },
  {
   "cell_type": "code",
   "execution_count": null,
   "metadata": {
    "collapsed": false,
    "jupyter": {
     "outputs_hidden": false
    },
    "pycharm": {
     "name": "#%%\n"
    }
   },
   "outputs": [],
   "source": [
    "Polymer_Rings,Parameterize_Bond,Parameterize_Charges = Read_Input(Input_File_Sidechains,XYZ_File_Sidechains,Polymer_Name)\n",
    "\n",
    "Conjugated_Polymer_Ring_List = []\n",
    "for i in range(0,len(Polymer_Rings),2):\n",
    "    Conjugated_Polymer_Ring_List.append(Polymer_Rings[i+1])\n",
    "    Conjugated_Polymer_Ring_List.append(Polymer_Rings[i])\n",
    "\n",
    "for ring,params in zip(Conjugated_Polymer_Ring_List,Conjugated_Parameters):\n",
    "    for b_atom in ring.Bonded_Atoms:\n",
    "        b_atom.Add_Improper_Params(params[0],params[1],params[2])"
   ]
  },
  {
   "cell_type": "code",
   "execution_count": null,
   "metadata": {
    "collapsed": false,
    "jupyter": {
     "outputs_hidden": false
    },
    "pycharm": {
     "name": "#%%\n"
    }
   },
   "outputs": [],
   "source": [
    "Polymer_Ring_List = []\n",
    "for i in range(15):\n",
    "    for ring in Polymer_Rings:\n",
    "        Polymer_Ring_List.append(copy.deepcopy(ring))\n",
    "\n",
    "for ring,params in zip(Polymer_Ring_List,Conjugated_Parameters):\n",
    "    for b_atom in ring.Bonded_Atoms:\n",
    "        b_atom.Add_Improper_Params(params[0],params[1],params[2])"
   ]
  },
  {
   "cell_type": "code",
   "execution_count": null,
   "metadata": {
    "collapsed": false,
    "jupyter": {
     "outputs_hidden": false
    },
    "pycharm": {
     "name": "#%%\n"
    }
   },
   "outputs": [],
   "source": [
    "imp.reload(aromodel_lib)\n",
    "from aromodel_lib import *\n",
    "Write_Example_Plumed_Script(Polymer_Ring_List,Fit_Energies,Force_y,Force_x,Polymer_Name,Folder_Name=\"./Full_Polymer_Plumed\") #Plumed Script for full polymer\n",
    "Write_Example_Plumed_Script(Polymer_Ring_List,Fit_Energies,Force_y,Force_x,Polymer_Name+\"_Noninteracting\",Folder_Name=\"./Full_Polymer_Plumed\",Non_Interacting=True,Nonbonded_Fit_Energies=Nonbonded_Fit_Energies,Nonbonded_Force_x=Nonbonded_Force_x,Nonbonded_Force_y=Nonbonded_Force_y) #Plumed Script for full polymer with no LJ and Coulombic interactions"
   ]
  },
  {
   "cell_type": "code",
   "execution_count": null,
   "metadata": {
    "collapsed": false,
    "jupyter": {
     "outputs_hidden": false
    },
    "pycharm": {
     "name": "#%%\n"
    }
   },
   "outputs": [],
   "source": [
    "imp.reload(Molecule)\n",
    "imp.reload(Conjugated_Polymer)\n",
    "imp.reload(System)\n",
    "imp.reload(Ring)\n",
    "import sys\n",
    "sys.setrecursionlimit(10000)\n",
    "Polymer = Conjugated_Polymer.Conjugated_Polymer(Polymer_Ring_List)\n",
    "\n",
    "Bond_Atoms = []\n",
    "for bond in Polymer.Interring_Bond_List:\n",
    "        if bond.Bond_Main not in Bond_Atoms:\n",
    "            Bond_Atoms.append(bond.Bond_Main)\n",
    "        if bond.Bond_Node not in Bond_Atoms:\n",
    "            Bond_Atoms.append(bond.Bond_Node)\n",
    "System_List = []\n",
    "#Comp_List = np.ones(60,dtype=int)\n",
    "Comp_List = np.ones(30,dtype=int)\n",
    "#for poly in range(60):\n",
    "for poly in range(30):\n",
    "    Polymer = Conjugated_Polymer.Conjugated_Polymer(Polymer_Ring_List)\n",
    "    #Polymer.Replace_Interring_Dihedrals([0],[0],[0.0,0.0,0.0,0.0]) Changed by Leon\n",
    "    Polymer.Replace_Interring_Dihedrals([0],[0],[[0.0,0.0,0.0,0.0]])\n",
    "    Molecule.Assign_Lammps([Polymer])\n",
    "    for atom in Polymer.Atom_List:\n",
    "        atom.Charge = 0.0\n",
    "        atom.Epsilon = 0.0\n",
    "        atom.Sigma = 4.0\n",
    "    Polymer.Randomize_Torsions(Deloc_Coarse_Energies[0][3:-3]/4.184,Nonbonded_Coarse_Energies[0][3:-3]/4.184)\n",
    "    System_List.append(copy.deepcopy(Polymer))\n",
    "#Film = System.System(System_List,Comp_List,80.0,\"PNDI_T_Film_60_30mers\")\n",
    "Film = System.System(System_List,Comp_List,64.0,\"P3HT_Film_30_30mers_COLVAR_torsion\")\n",
    "Film.Gen_Rand()\n",
    "Film.Write_LAMMPS_Data()\n",
    "Film.Write_Plumed_Files(Comp_List,\"P3HT_Film\",Fit_Energies,Force_y,Force_x,Reverse = True,Folder_Name=\"./Full_Polymer_Plumed\")\n",
    "#Polymer.Write_Data_File(\"Test_Randomize.data\",Exclude_Interring_Dihedrals=True,Bond_Atoms=Bond_Atoms,Soft_Potential=True)"
   ]
  },
  {
   "cell_type": "code",
   "execution_count": null,
   "metadata": {
    "collapsed": false,
    "jupyter": {
     "outputs_hidden": false
    },
    "pycharm": {
     "name": "#%%\n"
    }
   },
   "outputs": [],
   "source": [
    "import sys\n",
    "sys.setrecursionlimit(10000)\n",
    "Conventional_Polymer = Conjugated_Polymer.Conjugated_Polymer(Polymer_Ring_List)\n",
    "Molecule.Assign_Lammps([Conventional_Polymer])\n",
    "Conventional_Polymer.Replace_Interring_Dihedrals(0,0,OPLS_Fit_list[0])\n",
    "Bond_Atoms = []\n",
    "for bond in Conventional_Polymer.Interring_Bond_List:\n",
    "        if bond.Bond_Main not in Bond_Atoms:\n",
    "            Bond_Atoms.append(bond.Bond_Main)\n",
    "        if bond.Bond_Node not in Bond_Atoms:\n",
    "            Bond_Atoms.append(bond.Bond_Node)\n",
    "System_List = []\n",
    "#Comp_List = np.ones(60,dtype=int)\n",
    "Comp_List = np.ones(30,dtype=int)\n",
    "#for poly in range(60):\n",
    "for atom in Conventional_Polymer.Atom_List:\n",
    "    atom.Charge = 0.0\n",
    "    atom.Epsilon = 0.0\n",
    "    atom.Sigma = 4.0\n",
    "for poly in range(30):\n",
    "    System_List.append(copy.deepcopy(Conventional_Polymer))\n",
    "\n",
    "#Film = System.System(System_List,Comp_List,80.0,\"PNDI_T_Film_60_30mers\")\n",
    "Film = System.System(System_List,Comp_List,64.0,\"P3HT_Film_30_30mers_Dihedral_torsion\")\n",
    "Film.Gen_Rand()\n",
    "Film.Update_Atom_Positions(\"P3HT_Film_30_30mers_COLVAR_torsion.data\")\n",
    "Film.Write_LAMMPS_Data()"
   ]
  },
  {
   "cell_type": "code",
   "execution_count": null,
   "metadata": {
    "collapsed": false,
    "jupyter": {
     "outputs_hidden": false
    },
    "pycharm": {
     "name": "#%%\n"
    }
   },
   "outputs": [],
   "source": [
    "fig,ax = plt.subplots(1,1)\n",
    "ax.plot(Dih_Rotations,E_delocalization[0][0],label=\"Colvar-Torsion\")\n",
    "ax.plot(Dih_Rotations,Dimer_Energies[0][0],label=\"Dihedral-Torsion\")\n",
    "plt.xlabel(\"Degrees ()\",size=24)\n",
    "plt.ylabel(\"Energy (kcal/mol)\",size=24)\n",
    "plt.tight_layout()\n",
    "ax.legend()\n",
    "fig.savefig('%s_Figure2' % (\"P3HT\"))\n",
    "print()"
   ]
  },
  {
   "cell_type": "code",
   "execution_count": null,
   "metadata": {
    "collapsed": false,
    "jupyter": {
     "outputs_hidden": false
    },
    "pycharm": {
     "name": "#%%\n"
    }
   },
   "outputs": [],
   "source": [
    "Reverse = False\n",
    "Base_Calculate_Torsions_String = Polymer_Name + \"_Calculate_Torsions_Conventional\"\n",
    "index = 1\n",
    "Num_Atoms = 1\n",
    "Num_Rings = 0\n",
    "oop_blocks = np.linspace(0,2*math.pi,200)\n",
    "dih_blocks = np.linspace(-math.pi,math.pi,200)\n",
    "torsion_file = open(Base_Calculate_Torsions_String + \".dat\", 'w')\n",
    "for mol in Film.Molecule_List:\n",
    "    Bond_Atoms = []\n",
    "    for bond in mol.Interring_Bond_List:\n",
    "        if bond.Bond_Main not in Bond_Atoms:\n",
    "            Bond_Atoms.append(bond.Bond_Main)\n",
    "        if bond.Bond_Node not in Bond_Atoms:\n",
    "            Bond_Atoms.append(bond.Bond_Node)\n",
    "\n",
    "    torsion_file.write(\"\\n\\nc%d: CENTER ATOMS=%d\" % (index,mol.Ring_List[0].Core_Atom_List[0].System_ID))\n",
    "    for atom in mol.Ring_List[0].Core_Atom_List[1:]:\n",
    "        torsion_file.write(\",%d\" % atom.System_ID)\n",
    "    torsion_file.write(\"\\n\\nc%d_normal: GHOST ATOMS=c1,%d,%d COORDINATES=0.0,1.0,0.0\\n\\n\" % (index,mol.Ring_List[0].Core_Atom_List[0].System_ID,mol.Ring_List[0].Core_Atom_List[1].System_ID))\n",
    "\n",
    "    for i in range(1,len(mol.Ring_List)):\n",
    "        index += 1\n",
    "        for b_atom in mol.Ring_List[i].Bonded_Atoms:\n",
    "            if b_atom.Is_Linked and b_atom.Interring_Bond_Atom.Self_Ring.Ring_ID == i:\n",
    "                atom1 = b_atom.Interring_Bond_Atom.Central_Atom.System_ID\n",
    "                atom2 = b_atom.Central_Atom.System_ID\n",
    "                ring1_batom1 = b_atom.Interring_Bond_Atom.Same_Ring_Bonded_Atom_List[0].System_ID\n",
    "                ring1_batom2 = b_atom.Interring_Bond_Atom.Same_Ring_Bonded_Atom_List[1].System_ID\n",
    "                ring2_batom1 = b_atom.Same_Ring_Bonded_Atom_List[0].System_ID\n",
    "                ring2_batom2 = b_atom.Same_Ring_Bonded_Atom_List[1].System_ID\n",
    "        torsion_file.write(\"\\n\\nc%d: CENTER ATOMS=%d\" % (index,mol.Ring_List[i].Core_Atom_List[0].System_ID))\n",
    "        for atom in mol.Ring_List[i].Core_Atom_List[1:]:\n",
    "            torsion_file.write(\",%d\" % atom.System_ID)\n",
    "        torsion_file.write(\"\\n\\nc%d_normal: GHOST ATOMS=c%d,%d,%d COORDINATES=0.0,1.0,0.0\\n\\n\" % (index,index,mol.Ring_List[i].Core_Atom_List[0].System_ID,mol.Ring_List[i].Core_Atom_List[1].System_ID))\n",
    "        if Reverse:\n",
    "            torsion_file.write(\"DIH_%d: TORSION VECTOR1=c%d_normal,c%d AXIS=%d,%d VECTOR2=c%d_normal,c%d\\n\\n\" % (index-1,index-1,index-1,atom2,atom1,index,index))\n",
    "        else:\n",
    "            torsion_file.write(\"DIH_%d: TORSION VECTOR1=c%d,c%d_normal AXIS=%d,%d VECTOR2=c%d,c%d_normal\\n\\n\" % (index-1,index-1,index-1,atom1,atom2,index,index))\n",
    "        torsion_file.write(\"OOP_%d_1: TORSION ATOMS=%d,%d,%d,%d\\n\\n\" % (index-1,atom1,ring1_batom1,ring1_batom2,atom2))\n",
    "        torsion_file.write(\"OOP_%d_2: TORSION ATOMS=%d,%d,%d,%d\\n\\n\" % (index-1,atom2,ring2_batom1,ring2_batom2,atom1))\n",
    "        torsion_file.write(\"OOP_%d: MATHEVAL ARG=OOP_%d_1,OOP_%d_2 FUNC=abs(x)+abs(y) PERIODIC=NO\\n\\n\" % (index-1,index-1,index-1))\n",
    "        torsion_file.write(\"PRINT ARG=DIH_%d,OOP_%d FILE=colvar_%d.txt STRIDE=100\\n\\n\" % (index-1,index-1,index-1))\n",
    "\n",
    "    torsion_file.write(\"WHOLEMOLECULES ENTITY0=%d-%d\" % (Num_Atoms,Num_Atoms+len(mol.Atom_List)-1))\n",
    "    Num_Atoms += len(mol.Atom_List)\n",
    "    Num_Rings += len(mol.Ring_List)\n",
    "    for i in range(1,len(mol.Ring_List)):\n",
    "        torsion_file.write(\",c%d,c%d_normal\" % (i,i))\n",
    "    index += 1\n",
    "\n",
    "torsion_file.close()"
   ]
  },
  {
   "cell_type": "code",
   "execution_count": null,
   "metadata": {
    "collapsed": false,
    "jupyter": {
     "outputs_hidden": false
    },
    "pycharm": {
     "name": "#%%\n"
    }
   },
   "outputs": [],
   "source": [
    "Sub_Directory = \"./Polymer_Plumed_P3HT\"\n",
    "Colvars = f.readlines()\n",
    "torsion_index = 1\n",
    "torsion_indices = []\n",
    "for polymer_num in range(30):\n",
    "    for torsion_num in range(30):\n",
    "        torsion_indices.append(torsion_index)\n",
    "        torsion_index += 1\n",
    "    torsion_index += 1\n",
    "for colvar_num in torsion_indices:\n",
    "    f = open(Sub_Directory + \"/colvar_%d.txt\" % colvar_num,'r')\n",
    "    for line in Colvars[-1::-1]:\n",
    "        if len(line.strip().split()) == 3 and all((ch.isdigit() or ch == \".\") for ch in line.strip().split()[0].strip()):\n",
    "            Colvar_DIH_List.append(float(line.strip().split()[1].strip()))\n",
    "            Colvar_OOP_List.append(float(line.strip().split()[2].strip()))\n",
    "            break\n",
    "    f.close()"
   ]
  },
  {
   "cell_type": "code",
   "execution_count": null,
   "metadata": {
    "collapsed": false,
    "jupyter": {
     "outputs_hidden": false
    },
    "pycharm": {
     "name": "#%%\n"
    }
   },
   "outputs": [],
   "source": [
    "Nonbonded_Modifiers = [0.0,0.5,1.0,2.0]\n",
    "Delocalization_Modifiers = [0.0,0.5,1.0,2.0]\n",
    "\n",
    "for n_mod in Nonbonded_Modifiers:\n",
    "    for d_mod in Delocalization_Modifiers:\n",
    "        Write_Example_Plumed_Script(Polymer_Ring_List,Fit_Energies,Force_y,Force_x,Polymer_Name+\"_Noninteracting\",Folder_Name=\"./Full_Polymer_Plumed\",Non_Interacting=True,Nonbonded_Fit_Energies=Nonbonded_Fit_Energies,Nonbonded_Force_x=Nonbonded_Force_x,Nonbonded_Force_y=Nonbonded_Force_y,Delocalization_Modifier=d_mod,Nonbonded_Modifier=n_mod)"
   ]
  },
  {
   "cell_type": "code",
   "execution_count": null,
   "metadata": {
    "collapsed": false,
    "jupyter": {
     "outputs_hidden": false
    },
    "pycharm": {
     "name": "#%%\n"
    }
   },
   "outputs": [],
   "source": [
    "Make_Solvated_Box(Polymer_Ring_List,Polymer_Name,\"Chlorobenzene\")"
   ]
  },
  {
   "cell_type": "code",
   "execution_count": null,
   "metadata": {
    "collapsed": false,
    "jupyter": {
     "outputs_hidden": false
    },
    "pycharm": {
     "name": "#%%\n"
    }
   },
   "outputs": [],
   "source": [
    "Ring_By_Ring_Total_Trimer_Energy = Return_SPE_Trimers_Dih(Ring_List,Rotated_Shape,Max_Dih,Max_OOP,Polymer_Name,Ring_By_Ring_End_File_Matrices_Trimer,Dimer_Energies_Dict,Ring_By_Ring_Trimer_Nontorsional_Energy)\n",
    "\n",
    "Ring_By_Ring_Hydrogenated_Trimer_Energy =  Return_SPE_Trimers_Hydrogenated_Dih(Ring_List,Rotated_Shape,Max_Dih,Max_OOP,Polymer_Name,Ring_By_Ring_End_File_Matrices_Hydrogenated_Trimer,Dimer_Energies_Dict,Ring_By_Ring_Trimer_Nontorsional_Energy)\n",
    "\n",
    "Calculate_Trimer_Long_Range_Energy(Ring_List,Rotated_Shape,Max_Dih,Max_OOP,Polymer_Name,E_delocalization,Ring_By_Ring_Hydrogenated_Improper_Energies,Ring_By_Ring_Total_Trimer_Energy,Ring_By_Ring_Hydrogenated_Trimer_Energy,Ring_By_Ring_End_File_Matrices_Trimer,Dually_Hydrogenated_Energies,Ring_By_Ring_Nonbonded_Energies)\n",
    "for names,energies in zip(Dimer_Names,Ring_By_Ring_Nonbonded_Energies):\n",
    "    energies = energies - np.amin(energies[0])\n",
    "    fig,ax = plt.subplots(1,1)\n",
    "    x,y = np.meshgrid(Dih_Rotations_Degrees,OOP_Rotations_Degrees)\n",
    "    c = ax.pcolor(x,y,energies,cmap = 'seismic',vmin=0,vmax=10)\n",
    "    ax.set_title('Nonbonded Energies',fontdict = {'fontsize':24})\n",
    "    plt.xlabel('Dihedral Angle ($^\\circ$)',size = 24)\n",
    "    plt.ylabel('OOP Angle ($^\\circ$)',size = 24)\n",
    "    ax.tick_params(axis=\"x\", labelsize=18)\n",
    "    ax.tick_params(axis=\"y\", labelsize=18)\n",
    "    ax.tick_params(length=4,width=4)\n",
    "    fig.savefig('%s_%s_Nonbonded_Energies' % (names[0],names[1]))\n",
    "    plt.close(fig)\n",
    "\n",
    "for names,reg_tracker,improper_tracker in zip(Dimer_Names,Combined_Ring_By_Ring_Hydrogenated_Energies_Tracker,Combined_Ring_By_Ring_Hydrogenated_Improper_Energies_Tracker):\n",
    "    energies = energies - np.amin(energies[0])\n",
    "    fig,ax = plt.subplots(1,1)\n",
    "    x,y = np.meshgrid(Dih_Rotations_Degrees,OOP_Rotations_Degrees)\n",
    "    c = ax.pcolor(x,y,energies,cmap = 'seismic',vmin=0,vmax=10)\n",
    "    ax.set_title('Nonbonded Energies',fontdict = {'fontsize':24})\n",
    "    plt.xlabel('Dihedral Angle ($^\\circ$)',size = 24)\n",
    "    plt.ylabel('OOP Angle ($^\\circ$)',size = 24)\n",
    "    ax.tick_params(axis=\"x\", labelsize=18)\n",
    "    ax.tick_params(axis=\"y\", labelsize=18)\n",
    "    ax.tick_params(length=4,width=4)\n",
    "    fig.savefig('%s_%s_Nonbonded_Energies' % (names[0],names[1]))\n",
    "    plt.close(fig)\n",
    "\n",
    "    fig,ax = plt.subplots(1,1)\n",
    "    c = ax.pcolor(x,y,reg_tracker,cmap = 'seismic',vmin=0,vmax=10)\n",
    "    ax.set_title('Tracker',fontdict = {'fontsize':24})\n",
    "    plt.xlabel('Dihedral Angle ($^\\circ$)',size = 24)\n",
    "    plt.ylabel('OOP Angle ($^\\circ$)',size = 24)\n",
    "    ax.tick_params(axis=\"x\", labelsize=18)\n",
    "    ax.tick_params(axis=\"y\", labelsize=18)\n",
    "    ax.tick_params(length=4,width=4)\n",
    "    fig.savefig('%s_%s_Hydrogenated_Tracker' % (names[0],names[1]))\n",
    "    plt.close(fig)\n",
    "\n",
    "    fig,ax = plt.subplots(1,1)\n",
    "    c = ax.pcolor(x,y,improper_tracker,cmap = 'seismic',vmin=0,vmax=10)\n",
    "    ax.set_title('Tracker',fontdict = {'fontsize':24})\n",
    "    plt.xlabel('Dihedral Angle ($^\\circ$)',size = 24)\n",
    "    plt.ylabel('OOP Angle ($^\\circ$)',size = 24)\n",
    "    ax.tick_params(axis=\"x\", labelsize=18)\n",
    "    ax.tick_params(axis=\"y\", labelsize=18)\n",
    "    ax.tick_params(length=4,width=4)\n",
    "    fig.savefig('%s_%s_Hydrogenated_Improper_Tracker' % (names[0],names[1]))\n",
    "    plt.close(fig)\n",
    "\n",
    "for names,energies in zip(Dimer_Names,E_delocalization):\n",
    "    energies = energies - np.amin(energies[0])\n",
    "    fig,ax = plt.subplots(1,1)\n",
    "    x,y = np.meshgrid(Dih_Rotations_Degrees,OOP_Rotations_Degrees)\n",
    "    c = ax.pcolor(x,y,energies,cmap = 'seismic',vmin=0,vmax=10)\n",
    "    ax.set_title('Delocalization Energies',fontdict = {'fontsize':24})\n",
    "    plt.xlabel('Dihedral Angle ($^\\circ$)',size = 24)\n",
    "    plt.ylabel('OOP Angle ($^\\circ$)',size = 24)\n",
    "    ax.tick_params(axis=\"x\", labelsize=18)\n",
    "    ax.tick_params(axis=\"y\", labelsize=18)\n",
    "    ax.tick_params(length=4,width=4)\n",
    "    fig.savefig('%s_%s_Delocalization_Energies' % (names[0],names[1]))\n",
    "    plt.close(fig)\n",
    "\n",
    "    Normalized_Energy_List = []\n",
    "\n",
    "    fig,ax = plt.subplots(1,1)\n",
    "    for energy_list in energies:\n",
    "        norm_energies = energy_list - np.amin(energy_list)\n",
    "        plt.scatter(np.linspace(0,350,Rotated_Shape[1]),energy_list)\n",
    "        Normalized_Energy_List.append(norm_energies)\n",
    "\n",
    "    plt.ylabel('Energy (kcal/mol)',size = 24)\n",
    "    plt.xlabel('OOP Angle ($^\\circ$)',size = 24)\n",
    "    ax.tick_params(axis=\"x\", labelsize=18)\n",
    "    ax.tick_params(axis=\"y\", labelsize=18)\n",
    "    ax.tick_params(length=4,width=4)\n",
    "    plt.ylim([-10,10])\n",
    "    fig.savefig('%s_%s_Delocalization_Energies_Row_By_Row' % (names[0],names[1]))\n",
    "    plt.close(fig)\n",
    "\n",
    "\n",
    "    for i in range(len(energies)):\n",
    "        fig,ax = plt.subplots(1,1)\n",
    "        for energy_list in energies[:i]:\n",
    "            plt.scatter(np.linspace(0,350,Rotated_Shape[1]),energy_list,alpha=0.2,marker = 's',c='k')\n",
    "\n",
    "        plt.scatter(np.linspace(0,350,Rotated_Shape[1]),energies[i],marker = 's',c='k')\n",
    "        plt.xlabel('Dihedral Angle ($^\\circ$)',size = 24)\n",
    "        plt.ylabel('Energy (kcal/mol)',size = 24)\n",
    "        ax.tick_params(axis=\"x\", labelsize=18)\n",
    "        ax.tick_params(axis=\"y\", labelsize=18)\n",
    "        ax.tick_params(length=4,width=4)\n",
    "        plt.ylim([-10,15])\n",
    "        plt.tight_layout()\n",
    "        fig.savefig('%s_%s_Delocalization_Energies_Row_By_Row_%d' % (names[0],names[1],i))\n",
    "        plt.close(fig)\n",
    "        os.system(\"scp %s_%s_Delocalization_Energies_Row_By_Row_%d.png ./Figures\" % (names[0],names[1],i))\n",
    "        os.system(\"rm -f %s_%s_Delocalization_Energies_Row_By_Row_%d.png\" % (names[0],names[1],i))\n",
    "\n",
    "    for i in range(len(energies[0])):\n",
    "        fig,ax = plt.subplots(1,1)\n",
    "\n",
    "        plt.scatter(np.linspace(0,350,Rotated_Shape[1]),energies[0],marker = 's',c='k')\n",
    "        plt.scatter([np.linspace(0,350,Rotated_Shape[1])[i]],[energies[0][i]],marker = 's',c='k',edgecolors='r',linewidths = 2.25)\n",
    "        plt.xlabel('Dihedral Angle ($^\\circ$)',size = 24)\n",
    "        plt.ylabel('Energy (kcal/mol)',size = 24)\n",
    "        ax.tick_params(axis=\"x\", labelsize=18)\n",
    "        ax.tick_params(axis=\"y\", labelsize=18)\n",
    "        ax.tick_params(length=4,width=4)\n",
    "        plt.ylim([-10,15])\n",
    "        plt.tight_layout()\n",
    "        fig.savefig('%s_%s_Delocalization_Energies_First_Row_%d' % (names[0],names[1],i))\n",
    "        plt.close(fig)\n",
    "        os.system(\"scp %s_%s_Delocalization_Energies_First_Row_%d.png ./Figures\" % (names[0],names[1],i))\n",
    "        os.system(\"rm -f %s_%s_Delocalization_Energies_First_Row_%d.png\" % (names[0],names[1],i))\n",
    "\n",
    "    fig,ax = plt.subplots(1,1)\n",
    "    x,y = np.meshgrid(Dih_Rotations_Degrees,OOP_Rotations_Degrees)\n",
    "    c = ax.pcolor(x,y,Normalized_Energy_List,cmap = 'seismic',vmin=0,vmax=10)\n",
    "    ax.set_title('Delocalization Energies (Adjusted)',fontdict = {'fontsize':24})\n",
    "    plt.xlabel('Dihedral Angle ($^\\circ$)',size = 24)\n",
    "    plt.ylabel('OOP Angle ($^\\circ$)',size = 24)\n",
    "    ax.tick_params(axis=\"x\", labelsize=18)\n",
    "    ax.tick_params(axis=\"y\", labelsize=18)\n",
    "    ax.tick_params(length=4,width=4)\n",
    "    fig.savefig('%s_%s_Delocalization_Energies_Normalized' % (names[0],names[1]))\n",
    "    plt.close(fig)\n"
   ]
  },
  {
   "cell_type": "code",
   "execution_count": null,
   "metadata": {},
   "outputs": [],
   "source": []
  },
  {
   "cell_type": "code",
   "execution_count": null,
   "metadata": {},
   "outputs": [],
   "source": []
  },
  {
   "cell_type": "code",
   "execution_count": null,
   "metadata": {},
   "outputs": [],
   "source": []
  }
 ],
 "metadata": {
  "kernelspec": {
   "display_name": "Python 3.10.4 ('ucsd-reu-env')",
   "language": "python",
   "name": "python3"
  },
  "language_info": {
   "codemirror_mode": {
    "name": "ipython",
    "version": 3
   },
   "file_extension": ".py",
   "mimetype": "text/x-python",
   "name": "python",
   "nbconvert_exporter": "python",
   "pygments_lexer": "ipython3",
   "version": "3.10.4"
  },
  "vscode": {
   "interpreter": {
    "hash": "852a951705f4f58de0949d326abbbc38d4c9ee4e62aae323dcca9bd81c2557e0"
   }
  }
 },
 "nbformat": 4,
 "nbformat_minor": 4
}
